{
 "cells": [
  {
   "cell_type": "markdown",
   "metadata": {},
   "source": [
    "# Install needed libraries"
   ]
  },
  {
   "cell_type": "code",
   "execution_count": 1,
   "metadata": {},
   "outputs": [
    {
     "name": "stdout",
     "output_type": "stream",
     "text": [
      "Requirement already satisfied: tensorflow==2.3.0 in /Users/georgiohelou/opt/anaconda3/lib/python3.8/site-packages (2.3.0)\n",
      "Requirement already satisfied: astunparse==1.6.3 in /Users/georgiohelou/opt/anaconda3/lib/python3.8/site-packages (from tensorflow==2.3.0) (1.6.3)\n",
      "Requirement already satisfied: protobuf>=3.9.2 in /Users/georgiohelou/opt/anaconda3/lib/python3.8/site-packages (from tensorflow==2.3.0) (3.19.4)\n",
      "Requirement already satisfied: wrapt>=1.11.1 in /Users/georgiohelou/opt/anaconda3/lib/python3.8/site-packages (from tensorflow==2.3.0) (1.12.1)\n",
      "Requirement already satisfied: scipy==1.4.1 in /Users/georgiohelou/opt/anaconda3/lib/python3.8/site-packages (from tensorflow==2.3.0) (1.4.1)\n",
      "Requirement already satisfied: numpy<1.19.0,>=1.16.0 in /Users/georgiohelou/opt/anaconda3/lib/python3.8/site-packages (from tensorflow==2.3.0) (1.18.5)\n",
      "Requirement already satisfied: absl-py>=0.7.0 in /Users/georgiohelou/opt/anaconda3/lib/python3.8/site-packages (from tensorflow==2.3.0) (1.0.0)\n",
      "Requirement already satisfied: h5py<2.11.0,>=2.10.0 in /Users/georgiohelou/opt/anaconda3/lib/python3.8/site-packages (from tensorflow==2.3.0) (2.10.0)\n",
      "Requirement already satisfied: six>=1.12.0 in /Users/georgiohelou/opt/anaconda3/lib/python3.8/site-packages (from tensorflow==2.3.0) (1.15.0)\n",
      "Requirement already satisfied: termcolor>=1.1.0 in /Users/georgiohelou/opt/anaconda3/lib/python3.8/site-packages (from tensorflow==2.3.0) (1.1.0)\n",
      "Requirement already satisfied: opt-einsum>=2.3.2 in /Users/georgiohelou/opt/anaconda3/lib/python3.8/site-packages (from tensorflow==2.3.0) (3.3.0)\n",
      "Requirement already satisfied: google-pasta>=0.1.8 in /Users/georgiohelou/opt/anaconda3/lib/python3.8/site-packages (from tensorflow==2.3.0) (0.2.0)\n",
      "Requirement already satisfied: grpcio>=1.8.6 in /Users/georgiohelou/opt/anaconda3/lib/python3.8/site-packages (from tensorflow==2.3.0) (1.43.0)\n",
      "Requirement already satisfied: wheel>=0.26 in /Users/georgiohelou/opt/anaconda3/lib/python3.8/site-packages (from tensorflow==2.3.0) (0.36.2)\n",
      "Requirement already satisfied: tensorboard<3,>=2.3.0 in /Users/georgiohelou/opt/anaconda3/lib/python3.8/site-packages (from tensorflow==2.3.0) (2.8.0)\n",
      "Requirement already satisfied: tensorflow-estimator<2.4.0,>=2.3.0 in /Users/georgiohelou/opt/anaconda3/lib/python3.8/site-packages (from tensorflow==2.3.0) (2.3.0)\n",
      "Requirement already satisfied: keras-preprocessing<1.2,>=1.1.1 in /Users/georgiohelou/opt/anaconda3/lib/python3.8/site-packages (from tensorflow==2.3.0) (1.1.2)\n",
      "Requirement already satisfied: gast==0.3.3 in /Users/georgiohelou/opt/anaconda3/lib/python3.8/site-packages (from tensorflow==2.3.0) (0.3.3)\n",
      "Requirement already satisfied: setuptools>=41.0.0 in /Users/georgiohelou/opt/anaconda3/lib/python3.8/site-packages (from tensorboard<3,>=2.3.0->tensorflow==2.3.0) (52.0.0.post20210125)\n",
      "Requirement already satisfied: tensorboard-data-server<0.7.0,>=0.6.0 in /Users/georgiohelou/opt/anaconda3/lib/python3.8/site-packages (from tensorboard<3,>=2.3.0->tensorflow==2.3.0) (0.6.1)\n",
      "Requirement already satisfied: markdown>=2.6.8 in /Users/georgiohelou/opt/anaconda3/lib/python3.8/site-packages (from tensorboard<3,>=2.3.0->tensorflow==2.3.0) (3.3.6)\n",
      "Requirement already satisfied: requests<3,>=2.21.0 in /Users/georgiohelou/opt/anaconda3/lib/python3.8/site-packages (from tensorboard<3,>=2.3.0->tensorflow==2.3.0) (2.25.1)\n",
      "Requirement already satisfied: werkzeug>=0.11.15 in /Users/georgiohelou/opt/anaconda3/lib/python3.8/site-packages (from tensorboard<3,>=2.3.0->tensorflow==2.3.0) (1.0.1)\n",
      "Requirement already satisfied: tensorboard-plugin-wit>=1.6.0 in /Users/georgiohelou/opt/anaconda3/lib/python3.8/site-packages (from tensorboard<3,>=2.3.0->tensorflow==2.3.0) (1.8.1)\n",
      "Requirement already satisfied: google-auth<3,>=1.6.3 in /Users/georgiohelou/opt/anaconda3/lib/python3.8/site-packages (from tensorboard<3,>=2.3.0->tensorflow==2.3.0) (2.6.0)\n",
      "Requirement already satisfied: google-auth-oauthlib<0.5,>=0.4.1 in /Users/georgiohelou/opt/anaconda3/lib/python3.8/site-packages (from tensorboard<3,>=2.3.0->tensorflow==2.3.0) (0.4.6)\n",
      "Requirement already satisfied: cachetools<6.0,>=2.0.0 in /Users/georgiohelou/opt/anaconda3/lib/python3.8/site-packages (from google-auth<3,>=1.6.3->tensorboard<3,>=2.3.0->tensorflow==2.3.0) (5.0.0)\n",
      "Requirement already satisfied: rsa<5,>=3.1.4 in /Users/georgiohelou/opt/anaconda3/lib/python3.8/site-packages (from google-auth<3,>=1.6.3->tensorboard<3,>=2.3.0->tensorflow==2.3.0) (4.8)\n",
      "Requirement already satisfied: pyasn1-modules>=0.2.1 in /Users/georgiohelou/opt/anaconda3/lib/python3.8/site-packages (from google-auth<3,>=1.6.3->tensorboard<3,>=2.3.0->tensorflow==2.3.0) (0.2.8)\n",
      "Requirement already satisfied: requests-oauthlib>=0.7.0 in /Users/georgiohelou/opt/anaconda3/lib/python3.8/site-packages (from google-auth-oauthlib<0.5,>=0.4.1->tensorboard<3,>=2.3.0->tensorflow==2.3.0) (1.3.1)\n",
      "Requirement already satisfied: importlib-metadata>=4.4 in /Users/georgiohelou/opt/anaconda3/lib/python3.8/site-packages (from markdown>=2.6.8->tensorboard<3,>=2.3.0->tensorflow==2.3.0) (4.11.0)\n",
      "Requirement already satisfied: zipp>=0.5 in /Users/georgiohelou/opt/anaconda3/lib/python3.8/site-packages (from importlib-metadata>=4.4->markdown>=2.6.8->tensorboard<3,>=2.3.0->tensorflow==2.3.0) (3.4.1)\n",
      "Requirement already satisfied: pyasn1<0.5.0,>=0.4.6 in /Users/georgiohelou/opt/anaconda3/lib/python3.8/site-packages (from pyasn1-modules>=0.2.1->google-auth<3,>=1.6.3->tensorboard<3,>=2.3.0->tensorflow==2.3.0) (0.4.8)\n",
      "Requirement already satisfied: certifi>=2017.4.17 in /Users/georgiohelou/opt/anaconda3/lib/python3.8/site-packages (from requests<3,>=2.21.0->tensorboard<3,>=2.3.0->tensorflow==2.3.0) (2020.12.5)\n",
      "Requirement already satisfied: urllib3<1.27,>=1.21.1 in /Users/georgiohelou/opt/anaconda3/lib/python3.8/site-packages (from requests<3,>=2.21.0->tensorboard<3,>=2.3.0->tensorflow==2.3.0) (1.26.4)\n",
      "Requirement already satisfied: chardet<5,>=3.0.2 in /Users/georgiohelou/opt/anaconda3/lib/python3.8/site-packages (from requests<3,>=2.21.0->tensorboard<3,>=2.3.0->tensorflow==2.3.0) (4.0.0)\n",
      "Requirement already satisfied: idna<3,>=2.5 in /Users/georgiohelou/opt/anaconda3/lib/python3.8/site-packages (from requests<3,>=2.21.0->tensorboard<3,>=2.3.0->tensorflow==2.3.0) (2.10)\n",
      "Requirement already satisfied: oauthlib>=3.0.0 in /Users/georgiohelou/opt/anaconda3/lib/python3.8/site-packages (from requests-oauthlib>=0.7.0->google-auth-oauthlib<0.5,>=0.4.1->tensorboard<3,>=2.3.0->tensorflow==2.3.0) (3.2.0)\n",
      "Requirement already satisfied: gym in /Users/georgiohelou/opt/anaconda3/lib/python3.8/site-packages (0.21.0)\n",
      "Requirement already satisfied: numpy>=1.18.0 in /Users/georgiohelou/opt/anaconda3/lib/python3.8/site-packages (from gym) (1.18.5)\n",
      "Requirement already satisfied: cloudpickle>=1.2.0 in /Users/georgiohelou/opt/anaconda3/lib/python3.8/site-packages (from gym) (1.6.0)\n"
     ]
    }
   ],
   "source": [
    "!pip install tensorflow==2.3.0\n",
    "!pip install gym"
   ]
  },
  {
   "cell_type": "markdown",
   "metadata": {},
   "source": [
    "# Setup the Project"
   ]
  },
  {
   "cell_type": "code",
   "execution_count": 2,
   "metadata": {},
   "outputs": [
    {
     "name": "stdout",
     "output_type": "stream",
     "text": [
      "Obtaining file:///Users/georgiohelou/Desktop/gym_MLAA\n",
      "Requirement already satisfied: gym in /Users/georgiohelou/opt/anaconda3/lib/python3.8/site-packages (from gym-MLAA==0.1) (0.21.0)\n",
      "Requirement already satisfied: pygame in /Users/georgiohelou/opt/anaconda3/lib/python3.8/site-packages/pygame-2.1.2-py3.8-macosx-10.9-x86_64.egg (from gym-MLAA==0.1) (2.1.2)\n",
      "Requirement already satisfied: numpy in /Users/georgiohelou/opt/anaconda3/lib/python3.8/site-packages (from gym-MLAA==0.1) (1.18.5)\n",
      "Requirement already satisfied: cloudpickle>=1.2.0 in /Users/georgiohelou/opt/anaconda3/lib/python3.8/site-packages (from gym->gym-MLAA==0.1) (1.6.0)\n",
      "Installing collected packages: gym-MLAA\n",
      "  Attempting uninstall: gym-MLAA\n",
      "    Found existing installation: gym-MLAA 0.1\n",
      "    Uninstalling gym-MLAA-0.1:\n",
      "      Successfully uninstalled gym-MLAA-0.1\n",
      "  Running setup.py develop for gym-MLAA\n",
      "Successfully installed gym-MLAA\n"
     ]
    }
   ],
   "source": [
    "!pip install -e ."
   ]
  },
  {
   "cell_type": "code",
   "execution_count": 2,
   "metadata": {},
   "outputs": [
    {
     "name": "stdout",
     "output_type": "stream",
     "text": [
      "running install\n",
      "running bdist_egg\n",
      "running egg_info\n",
      "writing gym_maze.egg-info/PKG-INFO\n",
      "writing dependency_links to gym_maze.egg-info/dependency_links.txt\n",
      "writing requirements to gym_maze.egg-info/requires.txt\n",
      "writing top-level names to gym_maze.egg-info/top_level.txt\n",
      "reading manifest file 'gym_maze.egg-info/SOURCES.txt'\n",
      "writing manifest file 'gym_maze.egg-info/SOURCES.txt'\n",
      "installing library code to build/bdist.macosx-10.9-x86_64/egg\n",
      "running install_lib\n",
      "running build_py\n",
      "creating build/bdist.macosx-10.9-x86_64/egg\n",
      "creating build/bdist.macosx-10.9-x86_64/egg/gym_maze\n",
      "copying build/lib/gym_maze/__init__.py -> build/bdist.macosx-10.9-x86_64/egg/gym_maze\n",
      "creating build/bdist.macosx-10.9-x86_64/egg/gym_maze/envs\n",
      "creating build/bdist.macosx-10.9-x86_64/egg/gym_maze/envs/maze_samples\n",
      "copying build/lib/gym_maze/envs/maze_samples/maze2d_100x100.npy -> build/bdist.macosx-10.9-x86_64/egg/gym_maze/envs/maze_samples\n",
      "copying build/lib/gym_maze/envs/maze_samples/maze2d_5x5.npy -> build/bdist.macosx-10.9-x86_64/egg/gym_maze/envs/maze_samples\n",
      "copying build/lib/gym_maze/envs/maze_samples/maze2d_3x3.npy -> build/bdist.macosx-10.9-x86_64/egg/gym_maze/envs/maze_samples\n",
      "copying build/lib/gym_maze/envs/maze_samples/maze2d_10x10.npy -> build/bdist.macosx-10.9-x86_64/egg/gym_maze/envs/maze_samples\n",
      "copying build/lib/gym_maze/envs/maze_env.py -> build/bdist.macosx-10.9-x86_64/egg/gym_maze/envs\n",
      "copying build/lib/gym_maze/envs/maze_generator.py -> build/bdist.macosx-10.9-x86_64/egg/gym_maze/envs\n",
      "copying build/lib/gym_maze/envs/__init__.py -> build/bdist.macosx-10.9-x86_64/egg/gym_maze/envs\n",
      "copying build/lib/gym_maze/envs/maze_view_2d.py -> build/bdist.macosx-10.9-x86_64/egg/gym_maze/envs\n",
      "byte-compiling build/bdist.macosx-10.9-x86_64/egg/gym_maze/__init__.py to __init__.cpython-38.pyc\n",
      "byte-compiling build/bdist.macosx-10.9-x86_64/egg/gym_maze/envs/maze_env.py to maze_env.cpython-38.pyc\n",
      "byte-compiling build/bdist.macosx-10.9-x86_64/egg/gym_maze/envs/maze_generator.py to maze_generator.cpython-38.pyc\n",
      "byte-compiling build/bdist.macosx-10.9-x86_64/egg/gym_maze/envs/__init__.py to __init__.cpython-38.pyc\n",
      "byte-compiling build/bdist.macosx-10.9-x86_64/egg/gym_maze/envs/maze_view_2d.py to maze_view_2d.cpython-38.pyc\n",
      "creating build/bdist.macosx-10.9-x86_64/egg/EGG-INFO\n",
      "copying gym_maze.egg-info/PKG-INFO -> build/bdist.macosx-10.9-x86_64/egg/EGG-INFO\n",
      "copying gym_maze.egg-info/SOURCES.txt -> build/bdist.macosx-10.9-x86_64/egg/EGG-INFO\n",
      "copying gym_maze.egg-info/dependency_links.txt -> build/bdist.macosx-10.9-x86_64/egg/EGG-INFO\n",
      "copying gym_maze.egg-info/requires.txt -> build/bdist.macosx-10.9-x86_64/egg/EGG-INFO\n",
      "copying gym_maze.egg-info/top_level.txt -> build/bdist.macosx-10.9-x86_64/egg/EGG-INFO\n",
      "zip_safe flag not set; analyzing archive contents...\n",
      "gym_maze.envs.__pycache__.maze_view_2d.cpython-38: module references __file__\n",
      "creating 'dist/gym_maze-0.4-py3.8.egg' and adding 'build/bdist.macosx-10.9-x86_64/egg' to it\n",
      "removing 'build/bdist.macosx-10.9-x86_64/egg' (and everything under it)\n",
      "Processing gym_maze-0.4-py3.8.egg\n",
      "removing '/Users/georgiohelou/opt/anaconda3/lib/python3.8/site-packages/gym_maze-0.4-py3.8.egg' (and everything under it)\n",
      "creating /Users/georgiohelou/opt/anaconda3/lib/python3.8/site-packages/gym_maze-0.4-py3.8.egg\n",
      "Extracting gym_maze-0.4-py3.8.egg to /Users/georgiohelou/opt/anaconda3/lib/python3.8/site-packages\n",
      "gym-maze 0.4 is already the active version in easy-install.pth\n",
      "\n",
      "Installed /Users/georgiohelou/opt/anaconda3/lib/python3.8/site-packages/gym_maze-0.4-py3.8.egg\n",
      "Processing dependencies for gym-maze==0.4\n",
      "Searching for numpy==1.18.5\n",
      "Best match: numpy 1.18.5\n",
      "Adding numpy 1.18.5 to easy-install.pth file\n",
      "Installing f2py script to /Users/georgiohelou/opt/anaconda3/bin\n",
      "Installing f2py3 script to /Users/georgiohelou/opt/anaconda3/bin\n",
      "Installing f2py3.8 script to /Users/georgiohelou/opt/anaconda3/bin\n",
      "\n",
      "Using /Users/georgiohelou/opt/anaconda3/lib/python3.8/site-packages\n",
      "Searching for pygame==2.1.2\n",
      "Best match: pygame 2.1.2\n",
      "Processing pygame-2.1.2-py3.8-macosx-10.9-x86_64.egg\n",
      "pygame 2.1.2 is already the active version in easy-install.pth\n",
      "\n",
      "Using /Users/georgiohelou/opt/anaconda3/lib/python3.8/site-packages/pygame-2.1.2-py3.8-macosx-10.9-x86_64.egg\n",
      "Searching for gym==0.21.0\n",
      "Best match: gym 0.21.0\n",
      "Adding gym 0.21.0 to easy-install.pth file\n",
      "\n",
      "Using /Users/georgiohelou/opt/anaconda3/lib/python3.8/site-packages\n",
      "Searching for cloudpickle==1.6.0\n",
      "Best match: cloudpickle 1.6.0\n",
      "Adding cloudpickle 1.6.0 to easy-install.pth file\n",
      "\n",
      "Using /Users/georgiohelou/opt/anaconda3/lib/python3.8/site-packages\n",
      "Finished processing dependencies for gym-maze==0.4\n"
     ]
    }
   ],
   "source": [
    "!python setup.py install"
   ]
  },
  {
   "cell_type": "markdown",
   "metadata": {},
   "source": [
    "# Import Needed libraries"
   ]
  },
  {
   "cell_type": "code",
   "execution_count": 3,
   "metadata": {},
   "outputs": [],
   "source": [
    "import gym \n",
    "import random\n",
    "import sys\n",
    "import numpy as np\n",
    "import math"
   ]
  },
  {
   "cell_type": "markdown",
   "metadata": {},
   "source": [
    "# Import the game environment"
   ]
  },
  {
   "cell_type": "code",
   "execution_count": 10,
   "metadata": {},
   "outputs": [
    {
     "name": "stdout",
     "output_type": "stream",
     "text": [
      "Box([0 0], [9 9], (2,), int64)\n",
      "Discrete(4)\n"
     ]
    }
   ],
   "source": [
    "import gym_MLAA\n",
    "env = gym.make('maze-random-10x10-plus-v0')\n",
    "\n",
    "states = env.observation_space\n",
    "actions = env.action_space\n",
    "print(states)\n",
    "print(actions)"
   ]
  },
  {
   "cell_type": "markdown",
   "metadata": {},
   "source": [
    "# Setting Env and Training Constants"
   ]
  },
  {
   "cell_type": "code",
   "execution_count": 11,
   "metadata": {},
   "outputs": [],
   "source": [
    "'''\n",
    "Defining the environment related constants\n",
    "'''\n",
    "# Number of discrete states (bucket) per state dimension\n",
    "MAZE_SIZE = tuple((env.observation_space.high + np.ones(env.observation_space.shape)).astype(int))\n",
    "NUM_BUCKETS = MAZE_SIZE  # one bucket per grid\n",
    "\n",
    "# Number of discrete actions\n",
    "NUM_ACTIONS = env.action_space.n  # [\"N\", \"S\", \"E\", \"W\"]\n",
    "# Bounds for each discrete state\n",
    "STATE_BOUNDS = list(zip(env.observation_space.low, env.observation_space.high))\n",
    "\n",
    "'''\n",
    "Learning related constants\n",
    "'''\n",
    "MIN_EXPLORE_RATE = 0.001\n",
    "MIN_LEARNING_RATE = 0.2\n",
    "DECAY_FACTOR = np.prod(MAZE_SIZE, dtype=float) / 10.0\n",
    "\n",
    "'''\n",
    "Defining the simulation related constants\n",
    "'''\n",
    "NUM_EPISODES = 50000\n",
    "MAX_T = np.prod(MAZE_SIZE, dtype=int) * 100\n",
    "STREAK_TO_END = 100\n",
    "SOLVED_T = np.prod(MAZE_SIZE, dtype=int)\n",
    "#DEBUG_MODE = 0\n",
    "RENDER_MAZE = True\n",
    "ENABLE_RECORDING = True\n",
    "\n",
    "'''\n",
    "Creating a Q-Table for each state-action pair\n",
    "'''\n",
    "q_table = np.zeros(NUM_BUCKETS + (NUM_ACTIONS,), dtype=float)\n",
    "\n",
    "'''\n",
    "Begin simulation\n",
    "'''\n",
    "recording_folder = \"/tmp/maze_q_learning\"\n"
   ]
  },
  {
   "cell_type": "markdown",
   "metadata": {},
   "source": [
    "# Define Helper Functions"
   ]
  },
  {
   "cell_type": "code",
   "execution_count": 12,
   "metadata": {},
   "outputs": [],
   "source": [
    "def select_action(state, explore_rate):\n",
    "    # Select a random action\n",
    "    if random.random() < explore_rate:\n",
    "        action = env.action_space.sample()\n",
    "    # Select the action with the highest q\n",
    "    else:\n",
    "        action = int(np.argmax(q_table[state]))\n",
    "    return action\n",
    "\n",
    "\n",
    "def get_explore_rate(t):\n",
    "    return max(MIN_EXPLORE_RATE, min(0.8, 1.0 - math.log10((t+1)/DECAY_FACTOR)))\n",
    "\n",
    "\n",
    "def get_learning_rate(t):\n",
    "    return max(MIN_LEARNING_RATE, min(0.8, 1.0 - math.log10((t+1)/DECAY_FACTOR)))\n",
    "\n",
    "\n",
    "def state_to_bucket(state):\n",
    "    bucket_indice = []\n",
    "    for i in range(len(state)):\n",
    "        if state[i] <= STATE_BOUNDS[i][0]:\n",
    "            bucket_index = 0\n",
    "        elif state[i] >= STATE_BOUNDS[i][1]:\n",
    "            bucket_index = NUM_BUCKETS[i] - 1\n",
    "        else:\n",
    "            # Mapping the state bounds to the bucket array\n",
    "            bound_width = STATE_BOUNDS[i][1] - STATE_BOUNDS[i][0]\n",
    "            offset = (NUM_BUCKETS[i]-1)*STATE_BOUNDS[i][0]/bound_width\n",
    "            scaling = (NUM_BUCKETS[i]-1)/bound_width\n",
    "            bucket_index = int(round(scaling*state[i] - offset))\n",
    "        bucket_indice.append(bucket_index)\n",
    "    return tuple(bucket_indice)"
   ]
  },
  {
   "cell_type": "markdown",
   "metadata": {},
   "source": [
    "# Q Learning"
   ]
  },
  {
   "cell_type": "code",
   "execution_count": 13,
   "metadata": {},
   "outputs": [],
   "source": [
    "Q_timeSteps_list = []\n",
    "Q_TotalReward_list = []\n",
    "Q_Episodes_list = []"
   ]
  },
  {
   "cell_type": "code",
   "execution_count": 14,
   "metadata": {
    "scrolled": false
   },
   "outputs": [
    {
     "ename": "error",
     "evalue": "display Surface quit",
     "output_type": "error",
     "traceback": [
      "\u001b[0;31m---------------------------------------------------------------------------\u001b[0m",
      "\u001b[0;31merror\u001b[0m                                     Traceback (most recent call last)",
      "\u001b[0;32m<ipython-input-14-0fba60e6a58f>\u001b[0m in \u001b[0;36m<module>\u001b[0;34m\u001b[0m\n\u001b[1;32m      7\u001b[0m \u001b[0;34m\u001b[0m\u001b[0m\n\u001b[1;32m      8\u001b[0m \u001b[0;31m# Render tha maze\u001b[0m\u001b[0;34m\u001b[0m\u001b[0;34m\u001b[0m\u001b[0;34m\u001b[0m\u001b[0m\n\u001b[0;32m----> 9\u001b[0;31m \u001b[0menv\u001b[0m\u001b[0;34m.\u001b[0m\u001b[0mrender\u001b[0m\u001b[0;34m(\u001b[0m\u001b[0;34m)\u001b[0m\u001b[0;34m\u001b[0m\u001b[0;34m\u001b[0m\u001b[0m\n\u001b[0m\u001b[1;32m     10\u001b[0m \u001b[0;34m\u001b[0m\u001b[0m\n\u001b[1;32m     11\u001b[0m \u001b[0;32mfor\u001b[0m \u001b[0mepisode\u001b[0m \u001b[0;32min\u001b[0m \u001b[0mrange\u001b[0m\u001b[0;34m(\u001b[0m\u001b[0mNUM_EPISODES\u001b[0m\u001b[0;34m)\u001b[0m\u001b[0;34m:\u001b[0m\u001b[0;34m\u001b[0m\u001b[0;34m\u001b[0m\u001b[0m\n",
      "\u001b[0;32m~/opt/anaconda3/lib/python3.8/site-packages/gym/core.py\u001b[0m in \u001b[0;36mrender\u001b[0;34m(self, mode, **kwargs)\u001b[0m\n\u001b[1;32m    293\u001b[0m \u001b[0;34m\u001b[0m\u001b[0m\n\u001b[1;32m    294\u001b[0m     \u001b[0;32mdef\u001b[0m \u001b[0mrender\u001b[0m\u001b[0;34m(\u001b[0m\u001b[0mself\u001b[0m\u001b[0;34m,\u001b[0m \u001b[0mmode\u001b[0m\u001b[0;34m=\u001b[0m\u001b[0;34m\"human\"\u001b[0m\u001b[0;34m,\u001b[0m \u001b[0;34m**\u001b[0m\u001b[0mkwargs\u001b[0m\u001b[0;34m)\u001b[0m\u001b[0;34m:\u001b[0m\u001b[0;34m\u001b[0m\u001b[0;34m\u001b[0m\u001b[0m\n\u001b[0;32m--> 295\u001b[0;31m         \u001b[0;32mreturn\u001b[0m \u001b[0mself\u001b[0m\u001b[0;34m.\u001b[0m\u001b[0menv\u001b[0m\u001b[0;34m.\u001b[0m\u001b[0mrender\u001b[0m\u001b[0;34m(\u001b[0m\u001b[0mmode\u001b[0m\u001b[0;34m,\u001b[0m \u001b[0;34m**\u001b[0m\u001b[0mkwargs\u001b[0m\u001b[0;34m)\u001b[0m\u001b[0;34m\u001b[0m\u001b[0;34m\u001b[0m\u001b[0m\n\u001b[0m\u001b[1;32m    296\u001b[0m \u001b[0;34m\u001b[0m\u001b[0m\n\u001b[1;32m    297\u001b[0m     \u001b[0;32mdef\u001b[0m \u001b[0mclose\u001b[0m\u001b[0;34m(\u001b[0m\u001b[0mself\u001b[0m\u001b[0;34m)\u001b[0m\u001b[0;34m:\u001b[0m\u001b[0;34m\u001b[0m\u001b[0;34m\u001b[0m\u001b[0m\n",
      "\u001b[0;32m~/opt/anaconda3/lib/python3.8/site-packages/gym_maze-0.4-py3.8.egg/gym_maze/envs/maze_env.py\u001b[0m in \u001b[0;36mrender\u001b[0;34m(self, mode, close)\u001b[0m\n\u001b[1;32m    104\u001b[0m             \u001b[0mself\u001b[0m\u001b[0;34m.\u001b[0m\u001b[0mmaze_view\u001b[0m\u001b[0;34m.\u001b[0m\u001b[0mquit_game\u001b[0m\u001b[0;34m(\u001b[0m\u001b[0;34m)\u001b[0m\u001b[0;34m\u001b[0m\u001b[0;34m\u001b[0m\u001b[0m\n\u001b[1;32m    105\u001b[0m \u001b[0;34m\u001b[0m\u001b[0m\n\u001b[0;32m--> 106\u001b[0;31m         \u001b[0;32mreturn\u001b[0m \u001b[0mself\u001b[0m\u001b[0;34m.\u001b[0m\u001b[0mmaze_view\u001b[0m\u001b[0;34m.\u001b[0m\u001b[0mupdate\u001b[0m\u001b[0;34m(\u001b[0m\u001b[0mmode\u001b[0m\u001b[0;34m)\u001b[0m\u001b[0;34m\u001b[0m\u001b[0;34m\u001b[0m\u001b[0m\n\u001b[0m\u001b[1;32m    107\u001b[0m \u001b[0;34m\u001b[0m\u001b[0m\n\u001b[1;32m    108\u001b[0m \u001b[0;34m\u001b[0m\u001b[0m\n",
      "\u001b[0;32m~/opt/anaconda3/lib/python3.8/site-packages/gym_maze-0.4-py3.8.egg/gym_maze/envs/maze_view_2d.py\u001b[0m in \u001b[0;36mupdate\u001b[0;34m(self, mode)\u001b[0m\n\u001b[1;32m     77\u001b[0m             \u001b[0mself\u001b[0m\u001b[0;34m.\u001b[0m\u001b[0m__game_over\u001b[0m \u001b[0;34m=\u001b[0m \u001b[0;32mTrue\u001b[0m\u001b[0;34m\u001b[0m\u001b[0;34m\u001b[0m\u001b[0m\n\u001b[1;32m     78\u001b[0m             \u001b[0mself\u001b[0m\u001b[0;34m.\u001b[0m\u001b[0mquit_game\u001b[0m\u001b[0;34m(\u001b[0m\u001b[0;34m)\u001b[0m\u001b[0;34m\u001b[0m\u001b[0;34m\u001b[0m\u001b[0m\n\u001b[0;32m---> 79\u001b[0;31m             \u001b[0;32mraise\u001b[0m \u001b[0me\u001b[0m\u001b[0;34m\u001b[0m\u001b[0;34m\u001b[0m\u001b[0m\n\u001b[0m\u001b[1;32m     80\u001b[0m         \u001b[0;32melse\u001b[0m\u001b[0;34m:\u001b[0m\u001b[0;34m\u001b[0m\u001b[0;34m\u001b[0m\u001b[0m\n\u001b[1;32m     81\u001b[0m             \u001b[0;32mreturn\u001b[0m \u001b[0mimg_output\u001b[0m\u001b[0;34m\u001b[0m\u001b[0;34m\u001b[0m\u001b[0m\n",
      "\u001b[0;32m~/opt/anaconda3/lib/python3.8/site-packages/gym_maze-0.4-py3.8.egg/gym_maze/envs/maze_view_2d.py\u001b[0m in \u001b[0;36mupdate\u001b[0;34m(self, mode)\u001b[0m\n\u001b[1;32m     72\u001b[0m     \u001b[0;32mdef\u001b[0m \u001b[0mupdate\u001b[0m\u001b[0;34m(\u001b[0m\u001b[0mself\u001b[0m\u001b[0;34m,\u001b[0m \u001b[0mmode\u001b[0m\u001b[0;34m=\u001b[0m\u001b[0;34m\"human\"\u001b[0m\u001b[0;34m)\u001b[0m\u001b[0;34m:\u001b[0m\u001b[0;34m\u001b[0m\u001b[0;34m\u001b[0m\u001b[0m\n\u001b[1;32m     73\u001b[0m         \u001b[0;32mtry\u001b[0m\u001b[0;34m:\u001b[0m\u001b[0;34m\u001b[0m\u001b[0;34m\u001b[0m\u001b[0m\n\u001b[0;32m---> 74\u001b[0;31m             \u001b[0mimg_output\u001b[0m \u001b[0;34m=\u001b[0m \u001b[0mself\u001b[0m\u001b[0;34m.\u001b[0m\u001b[0m__view_update\u001b[0m\u001b[0;34m(\u001b[0m\u001b[0mmode\u001b[0m\u001b[0;34m)\u001b[0m\u001b[0;34m\u001b[0m\u001b[0;34m\u001b[0m\u001b[0m\n\u001b[0m\u001b[1;32m     75\u001b[0m             \u001b[0mself\u001b[0m\u001b[0;34m.\u001b[0m\u001b[0m__controller_update\u001b[0m\u001b[0;34m(\u001b[0m\u001b[0;34m)\u001b[0m\u001b[0;34m\u001b[0m\u001b[0;34m\u001b[0m\u001b[0m\n\u001b[1;32m     76\u001b[0m         \u001b[0;32mexcept\u001b[0m \u001b[0mException\u001b[0m \u001b[0;32mas\u001b[0m \u001b[0me\u001b[0m\u001b[0;34m:\u001b[0m\u001b[0;34m\u001b[0m\u001b[0;34m\u001b[0m\u001b[0m\n",
      "\u001b[0;32m~/opt/anaconda3/lib/python3.8/site-packages/gym_maze-0.4-py3.8.egg/gym_maze/envs/maze_view_2d.py\u001b[0m in \u001b[0;36m__view_update\u001b[0;34m(self, mode)\u001b[0m\n\u001b[1;32m    130\u001b[0m \u001b[0;34m\u001b[0m\u001b[0m\n\u001b[1;32m    131\u001b[0m             \u001b[0;31m# update the screen\u001b[0m\u001b[0;34m\u001b[0m\u001b[0;34m\u001b[0m\u001b[0;34m\u001b[0m\u001b[0m\n\u001b[0;32m--> 132\u001b[0;31m             \u001b[0mself\u001b[0m\u001b[0;34m.\u001b[0m\u001b[0mscreen\u001b[0m\u001b[0;34m.\u001b[0m\u001b[0mblit\u001b[0m\u001b[0;34m(\u001b[0m\u001b[0mself\u001b[0m\u001b[0;34m.\u001b[0m\u001b[0mbackground\u001b[0m\u001b[0;34m,\u001b[0m \u001b[0;34m(\u001b[0m\u001b[0;36m0\u001b[0m\u001b[0;34m,\u001b[0m \u001b[0;36m0\u001b[0m\u001b[0;34m)\u001b[0m\u001b[0;34m)\u001b[0m\u001b[0;34m\u001b[0m\u001b[0;34m\u001b[0m\u001b[0m\n\u001b[0m\u001b[1;32m    133\u001b[0m             \u001b[0mself\u001b[0m\u001b[0;34m.\u001b[0m\u001b[0mscreen\u001b[0m\u001b[0;34m.\u001b[0m\u001b[0mblit\u001b[0m\u001b[0;34m(\u001b[0m\u001b[0mself\u001b[0m\u001b[0;34m.\u001b[0m\u001b[0mmaze_layer\u001b[0m\u001b[0;34m,\u001b[0m\u001b[0;34m(\u001b[0m\u001b[0;36m0\u001b[0m\u001b[0;34m,\u001b[0m \u001b[0;36m0\u001b[0m\u001b[0;34m)\u001b[0m\u001b[0;34m)\u001b[0m\u001b[0;34m\u001b[0m\u001b[0;34m\u001b[0m\u001b[0m\n\u001b[1;32m    134\u001b[0m \u001b[0;34m\u001b[0m\u001b[0m\n",
      "\u001b[0;31merror\u001b[0m: display Surface quit"
     ]
    }
   ],
   "source": [
    "# Instantiating the learning related parameters\n",
    "learning_rate = get_learning_rate(0)\n",
    "explore_rate = get_explore_rate(0)\n",
    "discount_factor = 0.99\n",
    "\n",
    "num_streaks = 0\n",
    "\n",
    "# Render tha maze\n",
    "env.render()\n",
    "\n",
    "for episode in range(NUM_EPISODES):\n",
    "\n",
    "    # Reset the environment\n",
    "    obv = env.reset()\n",
    "\n",
    "    # the initial state\n",
    "    state_0 = state_to_bucket(obv)\n",
    "    action = select_action(state_0, explore_rate)\n",
    "    total_reward = 0\n",
    "\n",
    "    for t in range(MAX_T):\n",
    "\n",
    "        # execute the action\n",
    "        obv, reward, done, _ = env.step(action)\n",
    "\n",
    "        # Observe the result\n",
    "        state = state_to_bucket(obv)\n",
    "        total_reward += reward\n",
    "        \n",
    "        # Select an action\n",
    "        action = select_action(state_0, explore_rate)\n",
    "\n",
    "        # Update the Q based on the result\n",
    "        best_q = np.amax(q_table[state])\n",
    "        q_table[state_0 + (action,)] += learning_rate * (reward + discount_factor * (best_q) - q_table[state_0 + (action,)])\n",
    "        #q_table[state_0 + (action,)] += learning_rate * (reward + discount_factor * q_table[state_0 + (action,)] - q_table[state_0 + (action,)])\n",
    "        \n",
    "        # Setting up for the next iteration\n",
    "        state_0 = state\n",
    "\n",
    "        # Render tha maze\n",
    "        if RENDER_MAZE:\n",
    "            env.render()\n",
    "\n",
    "        if env.is_game_over():\n",
    "            sys.exit()\n",
    "\n",
    "        if done:\n",
    "            print(\"Episode %d finished after %f time steps with total reward = %f (streak %d).\"\n",
    "                  % (episode, t, total_reward, num_streaks))\n",
    "            Q_Episodes_list.append(episode)\n",
    "            Q_timeSteps_list.append(t)\n",
    "            Q_TotalReward_list.append(total_reward)\n",
    "            \n",
    "            if t <= SOLVED_T:\n",
    "                num_streaks += 1\n",
    "            else:\n",
    "                num_streaks = 0\n",
    "            break\n",
    "\n",
    "        elif t >= MAX_T - 1:\n",
    "            print(\"Episode %d timed out at %d with total reward = %f.\"\n",
    "                  % (episode, t, total_reward))\n",
    "\n",
    "    # It's considered done when it's solved over 120 times consecutively\n",
    "    if num_streaks > STREAK_TO_END:\n",
    "        break\n",
    "\n",
    "    # Update parameters\n",
    "    explore_rate = get_explore_rate(episode)\n",
    "    learning_rate = get_learning_rate(episode)"
   ]
  },
  {
   "cell_type": "code",
   "execution_count": 29,
   "metadata": {},
   "outputs": [],
   "source": [
    "# print(Q_TotalReward_list)\n",
    "# print(Q_timeSteps_list)\n",
    "# print(Q_Episodes_list)"
   ]
  },
  {
   "cell_type": "markdown",
   "metadata": {},
   "source": [
    "# Plot Q-Learning Results"
   ]
  },
  {
   "cell_type": "code",
   "execution_count": 16,
   "metadata": {},
   "outputs": [
    {
     "data": {
      "image/png": "[encoded data removed]",
      "text/plain": [
       "<Figure size 432x288 with 1 Axes>"
      ]
     },
     "metadata": {
      "needs_background": "light"
     },
     "output_type": "display_data"
    }
   ],
   "source": [
    "# importing the required module\n",
    "import matplotlib.pyplot as plt\n",
    " \n",
    "# plotting the points\n",
    "plt.plot(Q_Episodes_list, Q_TotalReward_list)\n",
    " \n",
    "# naming the x axis\n",
    "plt.xlabel('Episodes')\n",
    "# naming the y axis\n",
    "plt.ylabel('Total Reward')\n",
    " \n",
    "# giving a title to my graph\n",
    "#plt.title('My first graph!')\n",
    " \n",
    "# function to show the plot\n",
    "plt.show()"
   ]
  },
  {
   "cell_type": "markdown",
   "metadata": {},
   "source": [
    "# SARSA"
   ]
  },
  {
   "cell_type": "code",
   "execution_count": 20,
   "metadata": {},
   "outputs": [],
   "source": [
    "S_timeSteps_list = []\n",
    "S_TotalReward_list = []\n",
    "S_Episodes_list = []"
   ]
  },
  {
   "cell_type": "code",
   "execution_count": 21,
   "metadata": {},
   "outputs": [
    {
     "name": "stdout",
     "output_type": "stream",
     "text": [
      "Episode 0 finished after 192.000000 time steps with total reward = 0.808000 (streak 0).\n",
      "Episode 1 finished after 118.000000 time steps with total reward = 0.882000 (streak 0).\n",
      "Episode 2 finished after 118.000000 time steps with total reward = 0.882000 (streak 0).\n",
      "Episode 3 finished after 53.000000 time steps with total reward = 0.947000 (streak 0).\n",
      "Episode 4 finished after 114.000000 time steps with total reward = 0.886000 (streak 1).\n",
      "Episode 5 finished after 244.000000 time steps with total reward = 0.756000 (streak 0).\n",
      "Episode 6 finished after 141.000000 time steps with total reward = 0.859000 (streak 0).\n",
      "Episode 7 finished after 438.000000 time steps with total reward = 0.562000 (streak 0).\n",
      "Episode 8 finished after 22.000000 time steps with total reward = 0.978000 (streak 0).\n",
      "Episode 9 finished after 222.000000 time steps with total reward = 0.778000 (streak 1).\n",
      "Episode 10 finished after 169.000000 time steps with total reward = 0.831000 (streak 0).\n",
      "Episode 11 finished after 237.000000 time steps with total reward = 0.763000 (streak 0).\n",
      "Episode 12 finished after 130.000000 time steps with total reward = 0.870000 (streak 0).\n",
      "Episode 13 finished after 195.000000 time steps with total reward = 0.805000 (streak 0).\n",
      "Episode 14 finished after 182.000000 time steps with total reward = 0.818000 (streak 0).\n",
      "Episode 15 finished after 198.000000 time steps with total reward = 0.802000 (streak 0).\n",
      "Episode 16 finished after 271.000000 time steps with total reward = 0.729000 (streak 0).\n",
      "Episode 17 finished after 222.000000 time steps with total reward = 0.778000 (streak 0).\n",
      "Episode 18 finished after 94.000000 time steps with total reward = 0.906000 (streak 0).\n",
      "Episode 19 finished after 185.000000 time steps with total reward = 0.815000 (streak 1).\n",
      "Episode 20 finished after 27.000000 time steps with total reward = 0.973000 (streak 0).\n",
      "Episode 21 finished after 60.000000 time steps with total reward = 0.940000 (streak 1).\n",
      "Episode 22 finished after 41.000000 time steps with total reward = 0.959000 (streak 2).\n",
      "Episode 23 finished after 68.000000 time steps with total reward = 0.932000 (streak 3).\n",
      "Episode 24 finished after 125.000000 time steps with total reward = 0.875000 (streak 4).\n",
      "Episode 25 finished after 65.000000 time steps with total reward = 0.935000 (streak 0).\n",
      "Episode 26 finished after 60.000000 time steps with total reward = 0.940000 (streak 1).\n",
      "Episode 27 finished after 47.000000 time steps with total reward = 0.953000 (streak 2).\n",
      "Episode 28 finished after 31.000000 time steps with total reward = 0.969000 (streak 3).\n",
      "Episode 29 finished after 26.000000 time steps with total reward = 0.974000 (streak 4).\n",
      "Episode 30 finished after 28.000000 time steps with total reward = 0.972000 (streak 5).\n",
      "Episode 31 finished after 34.000000 time steps with total reward = 0.966000 (streak 6).\n",
      "Episode 32 finished after 51.000000 time steps with total reward = 0.949000 (streak 7).\n",
      "Episode 33 finished after 18.000000 time steps with total reward = 0.982000 (streak 8).\n",
      "Episode 34 finished after 28.000000 time steps with total reward = 0.972000 (streak 9).\n",
      "Episode 35 finished after 83.000000 time steps with total reward = 0.917000 (streak 10).\n",
      "Episode 36 finished after 81.000000 time steps with total reward = 0.919000 (streak 11).\n",
      "Episode 37 finished after 30.000000 time steps with total reward = 0.970000 (streak 12).\n",
      "Episode 38 finished after 59.000000 time steps with total reward = 0.941000 (streak 13).\n",
      "Episode 39 finished after 17.000000 time steps with total reward = 0.983000 (streak 14).\n",
      "Episode 40 finished after 19.000000 time steps with total reward = 0.981000 (streak 15).\n",
      "Episode 41 finished after 19.000000 time steps with total reward = 0.981000 (streak 16).\n",
      "Episode 42 finished after 61.000000 time steps with total reward = 0.939000 (streak 17).\n",
      "Episode 43 finished after 17.000000 time steps with total reward = 0.983000 (streak 18).\n",
      "Episode 44 finished after 18.000000 time steps with total reward = 0.982000 (streak 19).\n",
      "Episode 45 finished after 32.000000 time steps with total reward = 0.968000 (streak 20).\n",
      "Episode 46 finished after 22.000000 time steps with total reward = 0.978000 (streak 21).\n",
      "Episode 47 finished after 25.000000 time steps with total reward = 0.975000 (streak 22).\n",
      "Episode 48 finished after 21.000000 time steps with total reward = 0.979000 (streak 23).\n",
      "Episode 49 finished after 22.000000 time steps with total reward = 0.978000 (streak 24).\n",
      "Episode 50 finished after 13.000000 time steps with total reward = 0.987000 (streak 25).\n",
      "Episode 51 finished after 12.000000 time steps with total reward = 0.988000 (streak 26).\n",
      "Episode 52 finished after 18.000000 time steps with total reward = 0.982000 (streak 27).\n",
      "Episode 53 finished after 22.000000 time steps with total reward = 0.978000 (streak 28).\n",
      "Episode 54 finished after 22.000000 time steps with total reward = 0.978000 (streak 29).\n",
      "Episode 55 finished after 12.000000 time steps with total reward = 0.988000 (streak 30).\n",
      "Episode 56 finished after 16.000000 time steps with total reward = 0.984000 (streak 31).\n",
      "Episode 57 finished after 15.000000 time steps with total reward = 0.985000 (streak 32).\n",
      "Episode 58 finished after 19.000000 time steps with total reward = 0.981000 (streak 33).\n",
      "Episode 59 finished after 16.000000 time steps with total reward = 0.984000 (streak 34).\n",
      "Episode 60 finished after 11.000000 time steps with total reward = 0.989000 (streak 35).\n",
      "Episode 61 finished after 22.000000 time steps with total reward = 0.978000 (streak 36).\n",
      "Episode 62 finished after 11.000000 time steps with total reward = 0.989000 (streak 37).\n",
      "Episode 63 finished after 16.000000 time steps with total reward = 0.984000 (streak 38).\n",
      "Episode 64 finished after 40.000000 time steps with total reward = 0.960000 (streak 39).\n",
      "Episode 65 finished after 11.000000 time steps with total reward = 0.989000 (streak 40).\n",
      "Episode 66 finished after 13.000000 time steps with total reward = 0.987000 (streak 41).\n",
      "Episode 67 finished after 14.000000 time steps with total reward = 0.986000 (streak 42).\n",
      "Episode 68 finished after 13.000000 time steps with total reward = 0.987000 (streak 43).\n",
      "Episode 69 finished after 13.000000 time steps with total reward = 0.987000 (streak 44).\n",
      "Episode 70 finished after 15.000000 time steps with total reward = 0.985000 (streak 45).\n",
      "Episode 71 finished after 13.000000 time steps with total reward = 0.987000 (streak 46).\n",
      "Episode 72 finished after 12.000000 time steps with total reward = 0.988000 (streak 47).\n",
      "Episode 73 finished after 14.000000 time steps with total reward = 0.986000 (streak 48).\n",
      "Episode 74 finished after 17.000000 time steps with total reward = 0.983000 (streak 49).\n",
      "Episode 75 finished after 11.000000 time steps with total reward = 0.989000 (streak 50).\n",
      "Episode 76 finished after 12.000000 time steps with total reward = 0.988000 (streak 51).\n",
      "Episode 77 finished after 14.000000 time steps with total reward = 0.986000 (streak 52).\n",
      "Episode 78 finished after 13.000000 time steps with total reward = 0.987000 (streak 53).\n",
      "Episode 79 finished after 11.000000 time steps with total reward = 0.989000 (streak 54).\n",
      "Episode 80 finished after 11.000000 time steps with total reward = 0.989000 (streak 55).\n",
      "Episode 81 finished after 11.000000 time steps with total reward = 0.989000 (streak 56).\n",
      "Episode 82 finished after 12.000000 time steps with total reward = 0.988000 (streak 57).\n",
      "Episode 83 finished after 11.000000 time steps with total reward = 0.989000 (streak 58).\n",
      "Episode 84 finished after 13.000000 time steps with total reward = 0.987000 (streak 59).\n",
      "Episode 85 finished after 11.000000 time steps with total reward = 0.989000 (streak 60).\n",
      "Episode 86 finished after 15.000000 time steps with total reward = 0.985000 (streak 61).\n",
      "Episode 87 finished after 13.000000 time steps with total reward = 0.987000 (streak 62).\n",
      "Episode 88 finished after 11.000000 time steps with total reward = 0.989000 (streak 63).\n",
      "Episode 89 finished after 11.000000 time steps with total reward = 0.989000 (streak 64).\n",
      "Episode 90 finished after 11.000000 time steps with total reward = 0.989000 (streak 65).\n",
      "Episode 91 finished after 11.000000 time steps with total reward = 0.989000 (streak 66).\n",
      "Episode 92 finished after 11.000000 time steps with total reward = 0.989000 (streak 67).\n",
      "Episode 93 finished after 11.000000 time steps with total reward = 0.989000 (streak 68).\n"
     ]
    },
    {
     "name": "stdout",
     "output_type": "stream",
     "text": [
      "Episode 94 finished after 11.000000 time steps with total reward = 0.989000 (streak 69).\n",
      "Episode 95 finished after 11.000000 time steps with total reward = 0.989000 (streak 70).\n",
      "Episode 96 finished after 11.000000 time steps with total reward = 0.989000 (streak 71).\n",
      "Episode 97 finished after 11.000000 time steps with total reward = 0.989000 (streak 72).\n",
      "Episode 98 finished after 13.000000 time steps with total reward = 0.987000 (streak 73).\n",
      "Episode 99 finished after 11.000000 time steps with total reward = 0.989000 (streak 74).\n",
      "Episode 100 finished after 11.000000 time steps with total reward = 0.989000 (streak 75).\n",
      "Episode 101 finished after 11.000000 time steps with total reward = 0.989000 (streak 76).\n",
      "Episode 102 finished after 11.000000 time steps with total reward = 0.989000 (streak 77).\n",
      "Episode 103 finished after 11.000000 time steps with total reward = 0.989000 (streak 78).\n",
      "Episode 104 finished after 11.000000 time steps with total reward = 0.989000 (streak 79).\n",
      "Episode 105 finished after 11.000000 time steps with total reward = 0.989000 (streak 80).\n",
      "Episode 106 finished after 11.000000 time steps with total reward = 0.989000 (streak 81).\n",
      "Episode 107 finished after 11.000000 time steps with total reward = 0.989000 (streak 82).\n",
      "Episode 108 finished after 11.000000 time steps with total reward = 0.989000 (streak 83).\n",
      "Episode 109 finished after 11.000000 time steps with total reward = 0.989000 (streak 84).\n",
      "Episode 110 finished after 11.000000 time steps with total reward = 0.989000 (streak 85).\n",
      "Episode 111 finished after 11.000000 time steps with total reward = 0.989000 (streak 86).\n",
      "Episode 112 finished after 11.000000 time steps with total reward = 0.989000 (streak 87).\n",
      "Episode 113 finished after 11.000000 time steps with total reward = 0.989000 (streak 88).\n",
      "Episode 114 finished after 11.000000 time steps with total reward = 0.989000 (streak 89).\n",
      "Episode 115 finished after 11.000000 time steps with total reward = 0.989000 (streak 90).\n",
      "Episode 116 finished after 11.000000 time steps with total reward = 0.989000 (streak 91).\n",
      "Episode 117 finished after 11.000000 time steps with total reward = 0.989000 (streak 92).\n",
      "Episode 118 finished after 11.000000 time steps with total reward = 0.989000 (streak 93).\n",
      "Episode 119 finished after 11.000000 time steps with total reward = 0.989000 (streak 94).\n",
      "Episode 120 finished after 11.000000 time steps with total reward = 0.989000 (streak 95).\n",
      "Episode 121 finished after 11.000000 time steps with total reward = 0.989000 (streak 96).\n",
      "Episode 122 finished after 11.000000 time steps with total reward = 0.989000 (streak 97).\n",
      "Episode 123 finished after 11.000000 time steps with total reward = 0.989000 (streak 98).\n",
      "Episode 124 finished after 11.000000 time steps with total reward = 0.989000 (streak 99).\n",
      "Episode 125 finished after 11.000000 time steps with total reward = 0.989000 (streak 100).\n"
     ]
    }
   ],
   "source": [
    "# Instantiating the learning related parameters\n",
    "learning_rate = get_learning_rate(0)\n",
    "explore_rate = get_explore_rate(0)\n",
    "discount_factor = 0.99\n",
    "\n",
    "num_streaks = 0\n",
    "\n",
    "# Render tha maze\n",
    "env.render()\n",
    "\n",
    "for episode in range(NUM_EPISODES):\n",
    "\n",
    "    # Reset the environment\n",
    "    obv = env.reset()\n",
    "\n",
    "    # the initial state\n",
    "    state_0 = state_to_bucket(obv)\n",
    "    total_reward = 0\n",
    "\n",
    "    for t in range(MAX_T):\n",
    "\n",
    "        # execute the action\n",
    "        obv, reward, done, _ = env.step(action)\n",
    "\n",
    "        # Observe the result\n",
    "        state = state_to_bucket(obv)\n",
    "        total_reward += reward\n",
    "        \n",
    "        # Select an action\n",
    "        action_new = select_action(state, explore_rate)\n",
    "\n",
    "        # Update the Q based on the result\n",
    "        #best_q = np.amax(q_table[state])\n",
    "        #q_table[state_0 + (action,)] += learning_rate * (reward + discount_factor * (best_q) - q_table[state_0 + (action,)])\n",
    "        q_table[state_0 + (action,)] += learning_rate * (reward + discount_factor * q_table[state + (action_new,)] - q_table[state_0 + (action,)])\n",
    "        \n",
    "        # Setting up for the next iteration\n",
    "        state_0 = state\n",
    "        action = action_new\n",
    "\n",
    "        # Render tha maze\n",
    "        if RENDER_MAZE:\n",
    "            env.render()\n",
    "\n",
    "        if env.is_game_over():\n",
    "            sys.exit()\n",
    "\n",
    "        if done:\n",
    "            print(\"Episode %d finished after %f time steps with total reward = %f (streak %d).\"\n",
    "                  % (episode, t, total_reward, num_streaks))\n",
    "            S_Episodes_list.append(episode)\n",
    "            S_timeSteps_list.append(t)\n",
    "            S_TotalReward_list.append(total_reward)\n",
    "            \n",
    "            if t <= SOLVED_T:\n",
    "                num_streaks += 1\n",
    "            else:\n",
    "                num_streaks = 0\n",
    "            break\n",
    "\n",
    "        elif t >= MAX_T - 1:\n",
    "            print(\"Episode %d timed out at %d with total reward = %f.\"\n",
    "                  % (episode, t, total_reward))\n",
    "\n",
    "    # It's considered done when it's solved over 120 times consecutively\n",
    "    if num_streaks > STREAK_TO_END:\n",
    "        break\n",
    "\n",
    "    # Update parameters\n",
    "    explore_rate = get_explore_rate(episode)\n",
    "    learning_rate = get_learning_rate(episode)"
   ]
  },
  {
   "cell_type": "markdown",
   "metadata": {},
   "source": [
    "# Plot SARSA result"
   ]
  },
  {
   "cell_type": "code",
   "execution_count": 22,
   "metadata": {},
   "outputs": [
    {
     "data": {
      "image/png": "[encoded data removed]",
      "text/plain": [
       "<Figure size 432x288 with 1 Axes>"
      ]
     },
     "metadata": {
      "needs_background": "light"
     },
     "output_type": "display_data"
    }
   ],
   "source": [
    "# importing the required module\n",
    "import matplotlib.pyplot as plt\n",
    " \n",
    "# plotting the points\n",
    "plt.plot(S_Episodes_list, S_TotalReward_list)\n",
    " \n",
    "# naming the x axis\n",
    "plt.xlabel('Episodes')\n",
    "# naming the y axis\n",
    "plt.ylabel('Total Reward')\n",
    " \n",
    "# giving a title to my graph\n",
    "#plt.title('My first graph!')\n",
    " \n",
    "# function to show the plot\n",
    "plt.show()"
   ]
  }
 ],
 "metadata": {
  "kernelspec": {
   "display_name": "Python 3",
   "language": "python",
   "name": "python3"
  },
  "language_info": {
   "codemirror_mode": {
    "name": "ipython",
    "version": 3
   },
   "file_extension": ".py",
   "mimetype": "text/x-python",
   "name": "python",
   "nbconvert_exporter": "python",
   "pygments_lexer": "ipython3",
   "version": "3.8.8"
  }
 },
 "nbformat": 4,
 "nbformat_minor": 2
}
