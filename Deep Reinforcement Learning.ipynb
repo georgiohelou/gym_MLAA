{
 "cells": [
  {
   "cell_type": "markdown",
   "metadata": {},
   "source": [
    "# Install needed libraries"
   ]
  },
  {
   "cell_type": "code",
   "execution_count": 2,
   "metadata": {},
   "outputs": [
    {
     "name": "stdout",
     "output_type": "stream",
     "text": [
      "Requirement already satisfied: tensorflow==2.3.0 in /Users/georgio/opt/anaconda3/lib/python3.8/site-packages (2.3.0)\n",
      "Requirement already satisfied: protobuf>=3.9.2 in /Users/georgio/opt/anaconda3/lib/python3.8/site-packages (from tensorflow==2.3.0) (3.19.1)\n",
      "Requirement already satisfied: keras-preprocessing<1.2,>=1.1.1 in /Users/georgio/opt/anaconda3/lib/python3.8/site-packages (from tensorflow==2.3.0) (1.1.2)\n",
      "Requirement already satisfied: six>=1.12.0 in /Users/georgio/opt/anaconda3/lib/python3.8/site-packages (from tensorflow==2.3.0) (1.15.0)\n",
      "Requirement already satisfied: wrapt>=1.11.1 in /Users/georgio/opt/anaconda3/lib/python3.8/site-packages (from tensorflow==2.3.0) (1.12.1)\n",
      "Requirement already satisfied: gast==0.3.3 in /Users/georgio/opt/anaconda3/lib/python3.8/site-packages (from tensorflow==2.3.0) (0.3.3)\n",
      "Requirement already satisfied: grpcio>=1.8.6 in /Users/georgio/opt/anaconda3/lib/python3.8/site-packages (from tensorflow==2.3.0) (1.41.1)\n",
      "Requirement already satisfied: absl-py>=0.7.0 in /Users/georgio/opt/anaconda3/lib/python3.8/site-packages (from tensorflow==2.3.0) (1.0.0)\n",
      "Requirement already satisfied: numpy<1.19.0,>=1.16.0 in /Users/georgio/opt/anaconda3/lib/python3.8/site-packages (from tensorflow==2.3.0) (1.18.5)\n",
      "Requirement already satisfied: wheel>=0.26 in /Users/georgio/opt/anaconda3/lib/python3.8/site-packages (from tensorflow==2.3.0) (0.36.2)\n",
      "Requirement already satisfied: google-pasta>=0.1.8 in /Users/georgio/opt/anaconda3/lib/python3.8/site-packages (from tensorflow==2.3.0) (0.2.0)\n",
      "Requirement already satisfied: tensorflow-estimator<2.4.0,>=2.3.0 in /Users/georgio/opt/anaconda3/lib/python3.8/site-packages (from tensorflow==2.3.0) (2.3.0)\n",
      "Requirement already satisfied: termcolor>=1.1.0 in /Users/georgio/opt/anaconda3/lib/python3.8/site-packages (from tensorflow==2.3.0) (1.1.0)\n",
      "Requirement already satisfied: h5py<2.11.0,>=2.10.0 in /Users/georgio/opt/anaconda3/lib/python3.8/site-packages (from tensorflow==2.3.0) (2.10.0)\n",
      "Requirement already satisfied: scipy==1.4.1 in /Users/georgio/opt/anaconda3/lib/python3.8/site-packages (from tensorflow==2.3.0) (1.4.1)\n",
      "Requirement already satisfied: opt-einsum>=2.3.2 in /Users/georgio/opt/anaconda3/lib/python3.8/site-packages (from tensorflow==2.3.0) (3.3.0)\n",
      "Requirement already satisfied: astunparse==1.6.3 in /Users/georgio/opt/anaconda3/lib/python3.8/site-packages (from tensorflow==2.3.0) (1.6.3)\n",
      "Requirement already satisfied: tensorboard<3,>=2.3.0 in /Users/georgio/opt/anaconda3/lib/python3.8/site-packages (from tensorflow==2.3.0) (2.7.0)\n",
      "Requirement already satisfied: tensorboard-plugin-wit>=1.6.0 in /Users/georgio/opt/anaconda3/lib/python3.8/site-packages (from tensorboard<3,>=2.3.0->tensorflow==2.3.0) (1.8.0)\n",
      "Requirement already satisfied: google-auth-oauthlib<0.5,>=0.4.1 in /Users/georgio/opt/anaconda3/lib/python3.8/site-packages (from tensorboard<3,>=2.3.0->tensorflow==2.3.0) (0.4.6)\n",
      "Requirement already satisfied: google-auth<3,>=1.6.3 in /Users/georgio/opt/anaconda3/lib/python3.8/site-packages (from tensorboard<3,>=2.3.0->tensorflow==2.3.0) (2.3.3)\n",
      "Requirement already satisfied: requests<3,>=2.21.0 in /Users/georgio/opt/anaconda3/lib/python3.8/site-packages (from tensorboard<3,>=2.3.0->tensorflow==2.3.0) (2.25.1)\n",
      "Requirement already satisfied: setuptools>=41.0.0 in /Users/georgio/opt/anaconda3/lib/python3.8/site-packages (from tensorboard<3,>=2.3.0->tensorflow==2.3.0) (52.0.0.post20210125)\n",
      "Requirement already satisfied: markdown>=2.6.8 in /Users/georgio/opt/anaconda3/lib/python3.8/site-packages (from tensorboard<3,>=2.3.0->tensorflow==2.3.0) (3.3.4)\n",
      "Requirement already satisfied: werkzeug>=0.11.15 in /Users/georgio/opt/anaconda3/lib/python3.8/site-packages (from tensorboard<3,>=2.3.0->tensorflow==2.3.0) (1.0.1)\n",
      "Requirement already satisfied: tensorboard-data-server<0.7.0,>=0.6.0 in /Users/georgio/opt/anaconda3/lib/python3.8/site-packages (from tensorboard<3,>=2.3.0->tensorflow==2.3.0) (0.6.1)\n",
      "Requirement already satisfied: pyasn1-modules>=0.2.1 in /Users/georgio/opt/anaconda3/lib/python3.8/site-packages (from google-auth<3,>=1.6.3->tensorboard<3,>=2.3.0->tensorflow==2.3.0) (0.2.8)\n",
      "Requirement already satisfied: cachetools<5.0,>=2.0.0 in /Users/georgio/opt/anaconda3/lib/python3.8/site-packages (from google-auth<3,>=1.6.3->tensorboard<3,>=2.3.0->tensorflow==2.3.0) (4.2.4)\n",
      "Requirement already satisfied: rsa<5,>=3.1.4 in /Users/georgio/opt/anaconda3/lib/python3.8/site-packages (from google-auth<3,>=1.6.3->tensorboard<3,>=2.3.0->tensorflow==2.3.0) (4.7.2)\n",
      "Requirement already satisfied: requests-oauthlib>=0.7.0 in /Users/georgio/opt/anaconda3/lib/python3.8/site-packages (from google-auth-oauthlib<0.5,>=0.4.1->tensorboard<3,>=2.3.0->tensorflow==2.3.0) (1.3.0)\n",
      "Requirement already satisfied: pyasn1<0.5.0,>=0.4.6 in /Users/georgio/opt/anaconda3/lib/python3.8/site-packages (from pyasn1-modules>=0.2.1->google-auth<3,>=1.6.3->tensorboard<3,>=2.3.0->tensorflow==2.3.0) (0.4.8)\n",
      "Requirement already satisfied: idna<3,>=2.5 in /Users/georgio/opt/anaconda3/lib/python3.8/site-packages (from requests<3,>=2.21.0->tensorboard<3,>=2.3.0->tensorflow==2.3.0) (2.10)\n",
      "Requirement already satisfied: chardet<5,>=3.0.2 in /Users/georgio/opt/anaconda3/lib/python3.8/site-packages (from requests<3,>=2.21.0->tensorboard<3,>=2.3.0->tensorflow==2.3.0) (4.0.0)\n",
      "Requirement already satisfied: urllib3<1.27,>=1.21.1 in /Users/georgio/opt/anaconda3/lib/python3.8/site-packages (from requests<3,>=2.21.0->tensorboard<3,>=2.3.0->tensorflow==2.3.0) (1.26.4)\n",
      "Requirement already satisfied: certifi>=2017.4.17 in /Users/georgio/opt/anaconda3/lib/python3.8/site-packages (from requests<3,>=2.21.0->tensorboard<3,>=2.3.0->tensorflow==2.3.0) (2020.12.5)\n",
      "Requirement already satisfied: oauthlib>=3.0.0 in /Users/georgio/opt/anaconda3/lib/python3.8/site-packages (from requests-oauthlib>=0.7.0->google-auth-oauthlib<0.5,>=0.4.1->tensorboard<3,>=2.3.0->tensorflow==2.3.0) (3.1.1)\n",
      "Requirement already satisfied: gym in /Users/georgio/opt/anaconda3/lib/python3.8/site-packages (0.21.0)\n",
      "Requirement already satisfied: cloudpickle>=1.2.0 in /Users/georgio/opt/anaconda3/lib/python3.8/site-packages (from gym) (1.6.0)\n",
      "Requirement already satisfied: numpy>=1.18.0 in /Users/georgio/opt/anaconda3/lib/python3.8/site-packages (from gym) (1.18.5)\n"
     ]
    }
   ],
   "source": [
    "!pip install tensorflow==2.3.0\n",
    "!pip install gym"
   ]
  },
  {
   "cell_type": "markdown",
   "metadata": {},
   "source": [
    "# Setup the Project"
   ]
  },
  {
   "cell_type": "code",
   "execution_count": 3,
   "metadata": {},
   "outputs": [
    {
     "name": "stdout",
     "output_type": "stream",
     "text": [
      "Obtaining file:///Users/georgio/Downloads/gym_MLAA\n",
      "Requirement already satisfied: gym in /Users/georgio/opt/anaconda3/lib/python3.8/site-packages (from gym-MLAA==0.1) (0.21.0)\n",
      "Requirement already satisfied: pygame in /Users/georgio/opt/anaconda3/lib/python3.8/site-packages (from gym-MLAA==0.1) (2.1.2)\n",
      "Requirement already satisfied: numpy in /Users/georgio/opt/anaconda3/lib/python3.8/site-packages (from gym-MLAA==0.1) (1.18.5)\n",
      "Requirement already satisfied: cloudpickle>=1.2.0 in /Users/georgio/opt/anaconda3/lib/python3.8/site-packages (from gym->gym-MLAA==0.1) (1.6.0)\n",
      "Installing collected packages: gym-MLAA\n",
      "  Attempting uninstall: gym-MLAA\n",
      "    Found existing installation: gym-MLAA 0.1\n",
      "    Uninstalling gym-MLAA-0.1:\n",
      "      Successfully uninstalled gym-MLAA-0.1\n",
      "  Running setup.py develop for gym-MLAA\n",
      "Successfully installed gym-MLAA\n"
     ]
    }
   ],
   "source": [
    "!pip install -e ."
   ]
  },
  {
   "cell_type": "markdown",
   "metadata": {},
   "source": [
    "# Import Needed libraries"
   ]
  },
  {
   "cell_type": "code",
   "execution_count": 4,
   "metadata": {},
   "outputs": [],
   "source": [
    "import gym \n",
    "import random\n",
    "import sys\n",
    "import numpy as np\n",
    "import math"
   ]
  },
  {
   "cell_type": "markdown",
   "metadata": {},
   "source": [
    "# Import the game environment"
   ]
  },
  {
   "cell_type": "code",
   "execution_count": 5,
   "metadata": {},
   "outputs": [
    {
     "name": "stdout",
     "output_type": "stream",
     "text": [
      "pygame 2.1.2 (SDL 2.0.18, Python 3.8.8)\n",
      "Hello from the pygame community. https://www.pygame.org/contribute.html\n",
      "Box([0 0], [9 9], (2,), int64)\n",
      "Discrete(4)\n"
     ]
    }
   ],
   "source": [
    "import gym_MLAA\n",
    "env = gym.make('maze-random-10x10-plus-v0')\n",
    "\n",
    "states = env.observation_space\n",
    "actions = env.action_space\n",
    "print(states)\n",
    "print(actions)"
   ]
  },
  {
   "cell_type": "markdown",
   "metadata": {},
   "source": [
    "# Setting Env and Training Constants"
   ]
  },
  {
   "cell_type": "code",
   "execution_count": 6,
   "metadata": {},
   "outputs": [],
   "source": [
    "'''\n",
    "Defining the environment related constants\n",
    "'''\n",
    "# Number of discrete states (bucket) per state dimension\n",
    "MAZE_SIZE = tuple((env.observation_space.high + np.ones(env.observation_space.shape)).astype(int))\n",
    "NUM_BUCKETS = MAZE_SIZE  # one bucket per grid\n",
    "\n",
    "# Number of discrete actions\n",
    "NUM_ACTIONS = env.action_space.n  # [\"N\", \"S\", \"E\", \"W\"]\n",
    "# Bounds for each discrete state\n",
    "STATE_BOUNDS = list(zip(env.observation_space.low, env.observation_space.high))\n",
    "\n",
    "'''\n",
    "Learning related constants\n",
    "'''\n",
    "MIN_EXPLORE_RATE = 0.001\n",
    "MIN_LEARNING_RATE = 0.2\n",
    "DECAY_FACTOR = np.prod(MAZE_SIZE, dtype=float) / 10.0\n",
    "\n",
    "'''\n",
    "Defining the simulation related constants\n",
    "'''\n",
    "NUM_EPISODES = 50000\n",
    "MAX_T = np.prod(MAZE_SIZE, dtype=int) * 100\n",
    "STREAK_TO_END = 100\n",
    "SOLVED_T = np.prod(MAZE_SIZE, dtype=int)\n",
    "#DEBUG_MODE = 0\n",
    "RENDER_MAZE = True\n",
    "ENABLE_RECORDING = True\n",
    "\n",
    "'''\n",
    "Creating a Q-Table for each state-action pair\n",
    "'''\n",
    "q_table = np.zeros(NUM_BUCKETS + (NUM_ACTIONS,), dtype=float)\n",
    "\n",
    "'''\n",
    "Begin simulation\n",
    "'''\n",
    "recording_folder = \"/tmp/maze_q_learning\"\n"
   ]
  },
  {
   "cell_type": "markdown",
   "metadata": {},
   "source": [
    "# Define Helper Functions"
   ]
  },
  {
   "cell_type": "code",
   "execution_count": 7,
   "metadata": {},
   "outputs": [],
   "source": [
    "def select_action(state, explore_rate):\n",
    "    # Select a random action\n",
    "    if random.random() < explore_rate:\n",
    "        action = env.action_space.sample()\n",
    "    # Select the action with the highest q\n",
    "    else:\n",
    "        action = int(np.argmax(q_table[state]))\n",
    "    return action\n",
    "\n",
    "\n",
    "def get_explore_rate(t):\n",
    "    return max(MIN_EXPLORE_RATE, min(0.8, 1.0 - math.log10((t+1)/DECAY_FACTOR)))\n",
    "\n",
    "\n",
    "def get_learning_rate(t):\n",
    "    return max(MIN_LEARNING_RATE, min(0.8, 1.0 - math.log10((t+1)/DECAY_FACTOR)))\n",
    "\n",
    "\n",
    "def state_to_bucket(state):\n",
    "    bucket_indice = []\n",
    "    for i in range(len(state)):\n",
    "        if state[i] <= STATE_BOUNDS[i][0]:\n",
    "            bucket_index = 0\n",
    "        elif state[i] >= STATE_BOUNDS[i][1]:\n",
    "            bucket_index = NUM_BUCKETS[i] - 1\n",
    "        else:\n",
    "            # Mapping the state bounds to the bucket array\n",
    "            bound_width = STATE_BOUNDS[i][1] - STATE_BOUNDS[i][0]\n",
    "            offset = (NUM_BUCKETS[i]-1)*STATE_BOUNDS[i][0]/bound_width\n",
    "            scaling = (NUM_BUCKETS[i]-1)/bound_width\n",
    "            bucket_index = int(round(scaling*state[i] - offset))\n",
    "        bucket_indice.append(bucket_index)\n",
    "    return tuple(bucket_indice)"
   ]
  },
  {
   "cell_type": "markdown",
   "metadata": {},
   "source": [
    "# Q Learning"
   ]
  },
  {
   "cell_type": "code",
   "execution_count": 8,
   "metadata": {},
   "outputs": [],
   "source": [
    "Q_timeSteps_list = []\n",
    "Q_TotalReward_list = []\n",
    "Q_Episodes_list = []"
   ]
  },
  {
   "cell_type": "code",
   "execution_count": null,
   "metadata": {
    "scrolled": false
   },
   "outputs": [
    {
     "name": "stdout",
     "output_type": "stream",
     "text": [
      "Episode 0 finished after 2183.000000 time steps with total reward = -211.162000 (streak 0).\n",
      "Episode 1 finished after 2742.000000 time steps with total reward = -141.728000 (streak 0).\n",
      "Episode 2 finished after 1071.000000 time steps with total reward = -40.067000 (streak 0).\n",
      "Episode 3 finished after 5270.000000 time steps with total reward = -584.212000 (streak 0).\n",
      "Episode 4 finished after 1493.000000 time steps with total reward = -200.473000 (streak 0).\n",
      "Episode 5 finished after 891.000000 time steps with total reward = 0.109000 (streak 0).\n",
      "Episode 6 finished after 1965.000000 time steps with total reward = -0.965000 (streak 0).\n",
      "Episode 7 finished after 6190.000000 time steps with total reward = -685.122000 (streak 0).\n",
      "Episode 8 finished after 1061.000000 time steps with total reward = -550.006000 (streak 0).\n",
      "Episode 9 finished after 3116.000000 time steps with total reward = -272.089000 (streak 0).\n",
      "Episode 10 finished after 7202.000000 time steps with total reward = -876.115000 (streak 0).\n",
      "Episode 11 finished after 2522.000000 time steps with total reward = -61.516000 (streak 0).\n",
      "Episode 12 finished after 4250.000000 time steps with total reward = -293.221000 (streak 0).\n",
      "Episode 13 finished after 320.000000 time steps with total reward = 0.680000 (streak 0).\n"
     ]
    }
   ],
   "source": [
    "# Instantiating the learning related parameters\n",
    "learning_rate = get_learning_rate(0)\n",
    "explore_rate = get_explore_rate(0)\n",
    "discount_factor = 0.99\n",
    "\n",
    "num_streaks = 0\n",
    "\n",
    "# Render tha maze\n",
    "env.render()\n",
    "\n",
    "for episode in range(NUM_EPISODES):\n",
    "\n",
    "    # Reset the environment\n",
    "    obv = env.reset()\n",
    "\n",
    "    # the initial state\n",
    "    state_0 = state_to_bucket(obv)\n",
    "    action = select_action(state_0, explore_rate)\n",
    "    total_reward = 0\n",
    "\n",
    "    for t in range(MAX_T):\n",
    "\n",
    "        # execute the action\n",
    "        obv, reward, done, _ = env.step(action)\n",
    "\n",
    "        # Observe the result\n",
    "        state = state_to_bucket(obv)\n",
    "        total_reward += reward\n",
    "        \n",
    "        # Select an action\n",
    "        action = select_action(state_0, explore_rate)\n",
    "\n",
    "        # Update the Q based on the result\n",
    "        best_q = np.amax(q_table[state])\n",
    "        q_table[state_0 + (action,)] += learning_rate * (reward + discount_factor * (best_q) - q_table[state_0 + (action,)])\n",
    "        #q_table[state_0 + (action,)] += learning_rate * (reward + discount_factor * q_table[state_0 + (action,)] - q_table[state_0 + (action,)])\n",
    "        \n",
    "        # Setting up for the next iteration\n",
    "        state_0 = state\n",
    "\n",
    "        # Render tha maze\n",
    "        if RENDER_MAZE:\n",
    "            env.render()\n",
    "\n",
    "        if env.is_game_over():\n",
    "            sys.exit()\n",
    "\n",
    "        if done:\n",
    "            print(\"Episode %d finished after %f time steps with total reward = %f (streak %d).\"\n",
    "                  % (episode, t, total_reward, num_streaks))\n",
    "            Q_Episodes_list.append(episode)\n",
    "            Q_timeSteps_list.append(t)\n",
    "            Q_TotalReward_list.append(total_reward)\n",
    "            \n",
    "            if t <= SOLVED_T:\n",
    "                num_streaks += 1\n",
    "            else:\n",
    "                num_streaks = 0\n",
    "            break\n",
    "\n",
    "        elif t >= MAX_T - 1:\n",
    "            print(\"Episode %d timed out at %d with total reward = %f.\"\n",
    "                  % (episode, t, total_reward))\n",
    "\n",
    "    # It's considered done when it's solved over 120 times consecutively\n",
    "    if num_streaks > STREAK_TO_END:\n",
    "        break\n",
    "\n",
    "    # Update parameters\n",
    "    explore_rate = get_explore_rate(episode)\n",
    "    learning_rate = get_learning_rate(episode)"
   ]
  },
  {
   "cell_type": "code",
   "execution_count": null,
   "metadata": {},
   "outputs": [],
   "source": [
    "# print(Q_TotalReward_list)\n",
    "# print(Q_timeSteps_list)\n",
    "# print(Q_Episodes_list)"
   ]
  },
  {
   "cell_type": "markdown",
   "metadata": {},
   "source": [
    "# Plot Q-Learning Results"
   ]
  },
  {
   "cell_type": "code",
   "execution_count": null,
   "metadata": {},
   "outputs": [],
   "source": [
    "# importing the required module\n",
    "import matplotlib.pyplot as plt\n",
    " \n",
    "# plotting the points\n",
    "plt.plot(Q_Episodes_list, Q_TotalReward_list)\n",
    " \n",
    "# naming the x axis\n",
    "plt.xlabel('Episodes')\n",
    "# naming the y axis\n",
    "plt.ylabel('Total Reward')\n",
    " \n",
    "# giving a title to my graph\n",
    "#plt.title('My first graph!')\n",
    " \n",
    "# function to show the plot\n",
    "plt.show()"
   ]
  },
  {
   "cell_type": "markdown",
   "metadata": {},
   "source": [
    "# SARSA"
   ]
  },
  {
   "cell_type": "code",
   "execution_count": null,
   "metadata": {},
   "outputs": [],
   "source": [
    "S_timeSteps_list = []\n",
    "S_TotalReward_list = []\n",
    "S_Episodes_list = []"
   ]
  },
  {
   "cell_type": "code",
   "execution_count": null,
   "metadata": {},
   "outputs": [],
   "source": [
    "# Instantiating the learning related parameters\n",
    "learning_rate = get_learning_rate(0)\n",
    "explore_rate = get_explore_rate(0)\n",
    "discount_factor = 0.99\n",
    "\n",
    "num_streaks = 0\n",
    "\n",
    "# Render tha maze\n",
    "env.render()\n",
    "\n",
    "for episode in range(NUM_EPISODES):\n",
    "\n",
    "    # Reset the environment\n",
    "    obv = env.reset()\n",
    "\n",
    "    # the initial state\n",
    "    state_0 = state_to_bucket(obv)\n",
    "    total_reward = 0\n",
    "\n",
    "    for t in range(MAX_T):\n",
    "\n",
    "        # execute the action\n",
    "        obv, reward, done, _ = env.step(action)\n",
    "\n",
    "        # Observe the result\n",
    "        state = state_to_bucket(obv)\n",
    "        total_reward += reward\n",
    "        \n",
    "        # Select an action\n",
    "        action_new = select_action(state, explore_rate)\n",
    "\n",
    "        # Update the Q based on the result\n",
    "        #best_q = np.amax(q_table[state])\n",
    "        #q_table[state_0 + (action,)] += learning_rate * (reward + discount_factor * (best_q) - q_table[state_0 + (action,)])\n",
    "        q_table[state_0 + (action,)] += learning_rate * (reward + discount_factor * q_table[state + (action_new,)] - q_table[state_0 + (action,)])\n",
    "        \n",
    "        # Setting up for the next iteration\n",
    "        state_0 = state\n",
    "        action = action_new\n",
    "\n",
    "        # Render tha maze\n",
    "        if RENDER_MAZE:\n",
    "            env.render()\n",
    "\n",
    "        if env.is_game_over():\n",
    "            sys.exit()\n",
    "\n",
    "        if done:\n",
    "            print(\"Episode %d finished after %f time steps with total reward = %f (streak %d).\"\n",
    "                  % (episode, t, total_reward, num_streaks))\n",
    "            S_Episodes_list.append(episode)\n",
    "            S_timeSteps_list.append(t)\n",
    "            S_TotalReward_list.append(total_reward)\n",
    "            \n",
    "            if t <= SOLVED_T:\n",
    "                num_streaks += 1\n",
    "            else:\n",
    "                num_streaks = 0\n",
    "            break\n",
    "\n",
    "        elif t >= MAX_T - 1:\n",
    "            print(\"Episode %d timed out at %d with total reward = %f.\"\n",
    "                  % (episode, t, total_reward))\n",
    "\n",
    "    # It's considered done when it's solved over 120 times consecutively\n",
    "    if num_streaks > STREAK_TO_END:\n",
    "        break\n",
    "\n",
    "    # Update parameters\n",
    "    explore_rate = get_explore_rate(episode)\n",
    "    learning_rate = get_learning_rate(episode)"
   ]
  },
  {
   "cell_type": "markdown",
   "metadata": {},
   "source": [
    "# Plot SARSA result"
   ]
  },
  {
   "cell_type": "code",
   "execution_count": null,
   "metadata": {},
   "outputs": [],
   "source": [
    "# importing the required module\n",
    "import matplotlib.pyplot as plt\n",
    " \n",
    "# plotting the points\n",
    "plt.plot(S_Episodes_list, S_TotalReward_list)\n",
    " \n",
    "# naming the x axis\n",
    "plt.xlabel('Episodes')\n",
    "# naming the y axis\n",
    "plt.ylabel('Total Reward')\n",
    " \n",
    "# giving a title to my graph\n",
    "#plt.title('My first graph!')\n",
    " \n",
    "# function to show the plot\n",
    "plt.show()"
   ]
  }
 ],
 "metadata": {
  "kernelspec": {
   "display_name": "Python 3",
   "language": "python",
   "name": "python3"
  },
  "language_info": {
   "codemirror_mode": {
    "name": "ipython",
    "version": 3
   },
   "file_extension": ".py",
   "mimetype": "text/x-python",
   "name": "python",
   "nbconvert_exporter": "python",
   "pygments_lexer": "ipython3",
   "version": "3.8.8"
  }
 },
 "nbformat": 4,
 "nbformat_minor": 2
}
